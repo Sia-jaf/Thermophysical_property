{
 "cells": [
  {
   "cell_type": "code",
   "execution_count": 3,
   "id": "a0cedf43",
   "metadata": {},
   "outputs": [],
   "source": [
    "import os, sys\n",
    "\n",
    "import pandas as pd\n",
    "import numpy as np\n",
    "import matplotlib.pyplot as plt\n",
    "import seaborn as sns\n"
   ]
  },
  {
   "cell_type": "code",
   "execution_count": 4,
   "id": "8bd5787e",
   "metadata": {},
   "outputs": [],
   "source": [
    "#Path to the data:\n",
    "path = \"../data/\""
   ]
  },
  {
   "cell_type": "code",
   "execution_count": null,
   "id": "73947da9",
   "metadata": {},
   "outputs": [],
   "source": [
    "### import the data\n",
    "# This is all of the data sets we have.\n",
    "train_df = pd.read_csv(path+\"train.csv\")\n",
    "test_df = pd.read_csv(path+\"test.csv\")"
   ]
  },
  {
   "cell_type": "code",
   "execution_count": 10,
   "id": "a8e033f4",
   "metadata": {},
   "outputs": [
    {
     "name": "stdout",
     "output_type": "stream",
     "text": [
      "<class 'pandas.core.frame.DataFrame'>\n",
      "RangeIndex: 2662 entries, 0 to 2661\n",
      "Columns: 427 entries, id to Group 424\n",
      "dtypes: float64(1), int64(425), object(1)\n",
      "memory usage: 8.7+ MB\n",
      "None\n",
      "\n",
      "     id                       SMILES      Tm  Group 1  Group 2  Group 3  \\\n",
      "0  2175        FC1=C(F)C(F)(F)C1(F)F  213.15        0        0        0   \n",
      "1  1222  c1ccc2c(c1)ccc3Nc4ccccc4c23  407.15        0        0        0   \n",
      "2  2994          CCN1C(C)=Nc2ccccc12  324.15        2        1        0   \n",
      "3  1704                   CC#CC(=O)O  351.15        1        0        0   \n",
      "4  2526                    CCCCC(S)C  126.15        2        3        0   \n",
      "\n",
      "   Group 4  Group 5  Group 6  Group 7  ...  Group 415  Group 416  Group 417  \\\n",
      "0        0        0        0        0  ...          0          0          0   \n",
      "1        0        0        0        0  ...          0          0          0   \n",
      "2        0        0        0        0  ...          0          0          0   \n",
      "3        0        0        0        0  ...          0          0          0   \n",
      "4        0        0        0        0  ...          0          0          0   \n",
      "\n",
      "   Group 418  Group 419  Group 420  Group 421  Group 422  Group 423  Group 424  \n",
      "0          0          0          0          0          0          0          0  \n",
      "1          0          0          0          0          0          0          0  \n",
      "2          0          0          0          0          0          0          0  \n",
      "3          0          0          0          0          0          0          0  \n",
      "4          0          0          0          0          0          0          0  \n",
      "\n",
      "[5 rows x 427 columns]\n",
      "\n",
      "            count         mean         std    min     25%     50%      75%  \\\n",
      "id         2662.0  1652.887303  955.005512   1.00  830.25  1642.5  2469.75   \n",
      "Tm         2662.0   278.263452   85.117914  53.54  217.00   277.3   325.15   \n",
      "Group 1    2662.0     1.020661    1.353640   0.00    0.00     1.0     2.00   \n",
      "Group 2    2662.0     1.582269    3.738416   0.00    0.00     0.0     1.00   \n",
      "Group 3    2662.0     0.114951    0.425964   0.00    0.00     0.0     0.00   \n",
      "...           ...          ...         ...    ...     ...     ...      ...   \n",
      "Group 420  2662.0     0.000000    0.000000   0.00    0.00     0.0     0.00   \n",
      "Group 421  2662.0     0.000000    0.000000   0.00    0.00     0.0     0.00   \n",
      "Group 422  2662.0     0.000000    0.000000   0.00    0.00     0.0     0.00   \n",
      "Group 423  2662.0     0.000000    0.000000   0.00    0.00     0.0     0.00   \n",
      "Group 424  2662.0     0.000000    0.000000   0.00    0.00     0.0     0.00   \n",
      "\n",
      "               max  \n",
      "id         3328.00  \n",
      "Tm          897.15  \n",
      "Group 1      16.00  \n",
      "Group 2      42.00  \n",
      "Group 3       6.00  \n",
      "...            ...  \n",
      "Group 420     0.00  \n",
      "Group 421     0.00  \n",
      "Group 422     0.00  \n",
      "Group 423     0.00  \n",
      "Group 424     0.00  \n",
      "\n",
      "[426 rows x 8 columns]\n"
     ]
    }
   ],
   "source": [
    "print(train_df.info())\n",
    "print()\n",
    "print(train_df.head())\n",
    "print()\n",
    "print(train_df.describe().T)"
   ]
  },
  {
   "cell_type": "code",
   "execution_count": null,
   "id": "afeec6d1",
   "metadata": {},
   "outputs": [],
   "source": [
    "#Target column is the Tm.\n",
    "#seems like some of the groups are just zero. We need to check those out."
   ]
  }
 ],
 "metadata": {
  "kernelspec": {
   "display_name": "TP_env",
   "language": "python",
   "name": "python3"
  },
  "language_info": {
   "codemirror_mode": {
    "name": "ipython",
    "version": 3
   },
   "file_extension": ".py",
   "mimetype": "text/x-python",
   "name": "python",
   "nbconvert_exporter": "python",
   "pygments_lexer": "ipython3",
   "version": "3.12.10"
  }
 },
 "nbformat": 4,
 "nbformat_minor": 5
}
